{
 "cells": [
  {
   "cell_type": "code",
   "execution_count": 2,
   "metadata": {},
   "outputs": [],
   "source": [
    "import numpy as np\n",
    "import pandas as pd\n",
    "import matplotlib.pyplot as plt\n",
    "from sklearn.preprocessing import LabelEncoder\n",
    "import nltk\n",
    "from nltk.corpus import stopwords\n",
    "from nltk.tokenize import RegexpTokenizer\n",
    "from nltk.stem.snowball import SnowballStemmer\n",
    "from sklearn.feature_extraction.text import CountVectorizer\n",
    "from sklearn.naive_bayes import MultinomialNB"
   ]
  },
  {
   "cell_type": "code",
   "execution_count": 3,
   "metadata": {},
   "outputs": [],
   "source": [
    "df = pd.read_csv('Train.csv')"
   ]
  },
  {
   "cell_type": "code",
   "execution_count": 4,
   "metadata": {},
   "outputs": [
    {
     "data": {
      "text/plain": [
       "(40000, 2)"
      ]
     },
     "execution_count": 4,
     "metadata": {},
     "output_type": "execute_result"
    }
   ],
   "source": [
    "df.shape"
   ]
  },
  {
   "cell_type": "code",
   "execution_count": 5,
   "metadata": {},
   "outputs": [
    {
     "data": {
      "text/html": [
       "<div>\n",
       "<style scoped>\n",
       "    .dataframe tbody tr th:only-of-type {\n",
       "        vertical-align: middle;\n",
       "    }\n",
       "\n",
       "    .dataframe tbody tr th {\n",
       "        vertical-align: top;\n",
       "    }\n",
       "\n",
       "    .dataframe thead th {\n",
       "        text-align: right;\n",
       "    }\n",
       "</style>\n",
       "<table border=\"1\" class=\"dataframe\">\n",
       "  <thead>\n",
       "    <tr style=\"text-align: right;\">\n",
       "      <th></th>\n",
       "      <th>review</th>\n",
       "      <th>label</th>\n",
       "    </tr>\n",
       "  </thead>\n",
       "  <tbody>\n",
       "    <tr>\n",
       "      <th>0</th>\n",
       "      <td>mature intelligent and highly charged melodram...</td>\n",
       "      <td>pos</td>\n",
       "    </tr>\n",
       "    <tr>\n",
       "      <th>1</th>\n",
       "      <td>http://video.google.com/videoplay?docid=211772...</td>\n",
       "      <td>pos</td>\n",
       "    </tr>\n",
       "    <tr>\n",
       "      <th>2</th>\n",
       "      <td>Title: Opera (1987) Director: Dario Argento Ca...</td>\n",
       "      <td>pos</td>\n",
       "    </tr>\n",
       "    <tr>\n",
       "      <th>3</th>\n",
       "      <td>I think a lot of people just wrote this off as...</td>\n",
       "      <td>pos</td>\n",
       "    </tr>\n",
       "    <tr>\n",
       "      <th>4</th>\n",
       "      <td>This is a story of two dogs and a cat looking ...</td>\n",
       "      <td>pos</td>\n",
       "    </tr>\n",
       "  </tbody>\n",
       "</table>\n",
       "</div>"
      ],
      "text/plain": [
       "                                              review label\n",
       "0  mature intelligent and highly charged melodram...   pos\n",
       "1  http://video.google.com/videoplay?docid=211772...   pos\n",
       "2  Title: Opera (1987) Director: Dario Argento Ca...   pos\n",
       "3  I think a lot of people just wrote this off as...   pos\n",
       "4  This is a story of two dogs and a cat looking ...   pos"
      ]
     },
     "execution_count": 5,
     "metadata": {},
     "output_type": "execute_result"
    }
   ],
   "source": [
    "df.head()"
   ]
  },
  {
   "cell_type": "code",
   "execution_count": 6,
   "metadata": {},
   "outputs": [],
   "source": [
    "X_train = df.values[:,0]\n",
    "y_train = df.values[:,1]"
   ]
  },
  {
   "cell_type": "code",
   "execution_count": 7,
   "metadata": {},
   "outputs": [
    {
     "name": "stdout",
     "output_type": "stream",
     "text": [
      "(40000,)\n",
      "(40000,)\n"
     ]
    }
   ],
   "source": [
    "print(X_train.shape)\n",
    "print(y_train.shape)"
   ]
  },
  {
   "cell_type": "code",
   "execution_count": 8,
   "metadata": {},
   "outputs": [
    {
     "name": "stdout",
     "output_type": "stream",
     "text": [
      "['pos' 'pos' 'pos' ... 'neg' 'pos' 'pos']\n"
     ]
    }
   ],
   "source": [
    "print(y_train)"
   ]
  },
  {
   "cell_type": "code",
   "execution_count": 9,
   "metadata": {},
   "outputs": [],
   "source": [
    "le = LabelEncoder()"
   ]
  },
  {
   "cell_type": "code",
   "execution_count": 10,
   "metadata": {},
   "outputs": [],
   "source": [
    "dfy = pd.DataFrame(df['label'],columns=['label'])"
   ]
  },
  {
   "cell_type": "code",
   "execution_count": 11,
   "metadata": {},
   "outputs": [
    {
     "data": {
      "text/plain": [
       "pandas.core.frame.DataFrame"
      ]
     },
     "execution_count": 11,
     "metadata": {},
     "output_type": "execute_result"
    }
   ],
   "source": [
    "type(dfy)"
   ]
  },
  {
   "cell_type": "code",
   "execution_count": 12,
   "metadata": {},
   "outputs": [],
   "source": [
    "labels = dfy.apply(le.fit_transform)"
   ]
  },
  {
   "cell_type": "code",
   "execution_count": 13,
   "metadata": {},
   "outputs": [
    {
     "data": {
      "text/plain": [
       "pandas.core.frame.DataFrame"
      ]
     },
     "execution_count": 13,
     "metadata": {},
     "output_type": "execute_result"
    }
   ],
   "source": [
    "type(labels)"
   ]
  },
  {
   "cell_type": "code",
   "execution_count": 14,
   "metadata": {},
   "outputs": [
    {
     "data": {
      "text/html": [
       "<div>\n",
       "<style scoped>\n",
       "    .dataframe tbody tr th:only-of-type {\n",
       "        vertical-align: middle;\n",
       "    }\n",
       "\n",
       "    .dataframe tbody tr th {\n",
       "        vertical-align: top;\n",
       "    }\n",
       "\n",
       "    .dataframe thead th {\n",
       "        text-align: right;\n",
       "    }\n",
       "</style>\n",
       "<table border=\"1\" class=\"dataframe\">\n",
       "  <thead>\n",
       "    <tr style=\"text-align: right;\">\n",
       "      <th></th>\n",
       "      <th>label</th>\n",
       "    </tr>\n",
       "  </thead>\n",
       "  <tbody>\n",
       "    <tr>\n",
       "      <th>0</th>\n",
       "      <td>1</td>\n",
       "    </tr>\n",
       "    <tr>\n",
       "      <th>1</th>\n",
       "      <td>1</td>\n",
       "    </tr>\n",
       "    <tr>\n",
       "      <th>2</th>\n",
       "      <td>1</td>\n",
       "    </tr>\n",
       "    <tr>\n",
       "      <th>3</th>\n",
       "      <td>1</td>\n",
       "    </tr>\n",
       "    <tr>\n",
       "      <th>4</th>\n",
       "      <td>1</td>\n",
       "    </tr>\n",
       "  </tbody>\n",
       "</table>\n",
       "</div>"
      ],
      "text/plain": [
       "   label\n",
       "0      1\n",
       "1      1\n",
       "2      1\n",
       "3      1\n",
       "4      1"
      ]
     },
     "execution_count": 14,
     "metadata": {},
     "output_type": "execute_result"
    }
   ],
   "source": [
    "labels.head()"
   ]
  },
  {
   "cell_type": "markdown",
   "metadata": {},
   "source": [
    "## Pos - 1\n",
    "## Neg - 0"
   ]
  },
  {
   "cell_type": "code",
   "execution_count": 15,
   "metadata": {},
   "outputs": [],
   "source": [
    "y_train = labels.values"
   ]
  },
  {
   "cell_type": "code",
   "execution_count": 16,
   "metadata": {},
   "outputs": [
    {
     "name": "stdout",
     "output_type": "stream",
     "text": [
      "(40000, 1)\n"
     ]
    }
   ],
   "source": [
    "print(y_train.shape)"
   ]
  },
  {
   "cell_type": "code",
   "execution_count": 17,
   "metadata": {},
   "outputs": [],
   "source": [
    "y_train = y_train.reshape((-1,))"
   ]
  },
  {
   "cell_type": "code",
   "execution_count": 18,
   "metadata": {},
   "outputs": [
    {
     "name": "stdout",
     "output_type": "stream",
     "text": [
      "(40000,)\n"
     ]
    }
   ],
   "source": [
    "print(y_train.shape)"
   ]
  },
  {
   "cell_type": "code",
   "execution_count": 19,
   "metadata": {},
   "outputs": [
    {
     "data": {
      "text/plain": [
       "array([1, 1, 1, ..., 0, 1, 1])"
      ]
     },
     "execution_count": 19,
     "metadata": {},
     "output_type": "execute_result"
    }
   ],
   "source": [
    "y_train"
   ]
  },
  {
   "cell_type": "code",
   "execution_count": 20,
   "metadata": {},
   "outputs": [],
   "source": [
    "sw = set(stopwords.words('english'))"
   ]
  },
  {
   "cell_type": "code",
   "execution_count": 21,
   "metadata": {
    "scrolled": true
   },
   "outputs": [],
   "source": [
    "temp = {'no',\"won't\",'not',\"shan't\",\"wouldn't\",'wasn', \"isn't\",'haven','doesn',  'shouldn', \"mustn't\",\"don't\",'ain', \"didn't\", \"needn't\",\n",
    "       \"aren't\", \"shouldn't\",  'needn','shan','wouldn', 'couldn',\"hasn't\", 'aren','mightn','weren','didn', \n",
    "       \"doesn't\",\"hadn't\",'nor',\"haven't\",'mustn', 'hadn',\"wasn't\", 'hasn', \"couldn't\", \"weren't\",'against',\"mightn't\"  \n",
    "       }"
   ]
  },
  {
   "cell_type": "code",
   "execution_count": 22,
   "metadata": {},
   "outputs": [
    {
     "name": "stdout",
     "output_type": "stream",
     "text": [
      "{'no', 'aren', 'mightn', \"shouldn't\", 'against', \"isn't\", 'weren', \"hadn't\", 'hadn', \"aren't\", \"weren't\", \"couldn't\", 'haven', \"don't\", \"shan't\", 'wouldn', 'wasn', 'shouldn', 'hasn', \"wasn't\", \"doesn't\", \"mightn't\", 'mustn', \"didn't\", 'ain', 'didn', 'not', \"wouldn't\", 'needn', \"needn't\", \"haven't\", 'couldn', 'shan', \"won't\", \"hasn't\", 'doesn', 'nor', \"mustn't\"}\n"
     ]
    }
   ],
   "source": [
    "print(temp)"
   ]
  },
  {
   "cell_type": "code",
   "execution_count": 23,
   "metadata": {},
   "outputs": [
    {
     "data": {
      "text/plain": [
       "38"
      ]
     },
     "execution_count": 23,
     "metadata": {},
     "output_type": "execute_result"
    }
   ],
   "source": [
    "len(temp)"
   ]
  },
  {
   "cell_type": "code",
   "execution_count": 24,
   "metadata": {},
   "outputs": [],
   "source": [
    "sw.difference_update(temp)"
   ]
  },
  {
   "cell_type": "code",
   "execution_count": 25,
   "metadata": {},
   "outputs": [
    {
     "data": {
      "text/plain": [
       "141"
      ]
     },
     "execution_count": 25,
     "metadata": {},
     "output_type": "execute_result"
    }
   ],
   "source": [
    "len(sw)"
   ]
  },
  {
   "cell_type": "code",
   "execution_count": 26,
   "metadata": {},
   "outputs": [
    {
     "name": "stdout",
     "output_type": "stream",
     "text": [
      "{'there', 'herself', 'at', 'until', 'him', 'some', 't', \"you've\", 'my', 'why', 'this', 'few', 'myself', 'ours', 'of', 'hers', 'other', 'y', 'themselves', 'up', 'into', 'don', \"you'd\", \"it's\", 'all', 'was', 'then', 'he', 'you', 'doing', 'won', 'our', 'from', 'who', 'm', 'will', 'yours', 'those', 'can', 'be', 'been', 'his', 'further', 'about', 'do', 'yourself', 'after', 'itself', 'how', 'own', 'am', 'once', 'each', 'such', 'an', 'd', 'any', 'between', 'is', 'should', 'isn', 'only', 'as', 'here', 'her', \"you'll\", 're', 'same', 'theirs', 'for', 'had', 'before', 'has', 'because', 'we', 'too', 'where', 'their', 'have', 'they', 'than', 'again', 'does', 'under', 'she', 'on', 'ourselves', 'did', 'to', \"she's\", 've', \"should've\", 'your', 'during', 'when', 'whom', 'it', 'and', 'more', 'if', 'll', 'by', 'the', 'down', 'just', 'me', 'or', 'in', 'are', 'through', 'these', 'below', 'that', 'i', 'while', 'a', 'off', 'them', 'both', \"that'll\", 'being', 'ma', 'which', 'so', 'having', 'with', 'over', 'yourselves', 'what', \"you're\", 'very', 'but', 'above', 'now', 'were', 'out', 'its', 'o', 'himself', 'most', 's'}\n"
     ]
    }
   ],
   "source": [
    "print(sw)"
   ]
  },
  {
   "cell_type": "code",
   "execution_count": 27,
   "metadata": {},
   "outputs": [],
   "source": [
    "def remove_stopwords(review,stopwords):\n",
    "    useful_words = [w for w in review if w not in stopwords ]\n",
    "    return useful_words\n",
    "\n",
    "def stemmer(review):\n",
    "    stemmed_words = [ss.stem(w) for w in review]\n",
    "    return stemmed_words\n",
    "\n",
    "def myTokenizer(review):\n",
    "    words = tokenizer.tokenize(review.lower())\n",
    "    words = remove_stopwords(words,sw)\n",
    "    return stemmer(words)"
   ]
  },
  {
   "cell_type": "code",
   "execution_count": 28,
   "metadata": {},
   "outputs": [],
   "source": [
    "tokenizer = RegexpTokenizer('[a-zA-Z@.]+')"
   ]
  },
  {
   "cell_type": "code",
   "execution_count": 29,
   "metadata": {},
   "outputs": [],
   "source": [
    "ss = SnowballStemmer('english')"
   ]
  },
  {
   "cell_type": "code",
   "execution_count": 30,
   "metadata": {},
   "outputs": [],
   "source": [
    "def stemming(reviews):\n",
    "    for i in range(reviews.shape[0]):\n",
    "        words = reviews[i]\n",
    "        stemmed_words = [ss.stem(w) for w in words]\n",
    "        stemmed_words = np.array(stemmed_words)\n",
    "        reviews[i] = stemmed_words"
   ]
  },
  {
   "cell_type": "code",
   "execution_count": 31,
   "metadata": {},
   "outputs": [
    {
     "name": "stdout",
     "output_type": "stream",
     "text": [
      "[['lovingly']\n",
      " ['jumping']\n",
      " ['running']\n",
      " ['walking']\n",
      " ['eating']\n",
      " ['eat']\n",
      " ['drinks']]\n",
      "(7, 1)\n"
     ]
    }
   ],
   "source": [
    "l = ['lovingly','jumping','running','walking','eating','eat','drinks']\n",
    "l = np.array(l)\n",
    "l = l.reshape((-1,1))\n",
    "print(l)\n",
    "print(l.shape)"
   ]
  },
  {
   "cell_type": "code",
   "execution_count": 32,
   "metadata": {},
   "outputs": [],
   "source": [
    "stemming(l)"
   ]
  },
  {
   "cell_type": "code",
   "execution_count": 33,
   "metadata": {},
   "outputs": [
    {
     "name": "stdout",
     "output_type": "stream",
     "text": [
      "[['love']\n",
      " ['jump']\n",
      " ['run']\n",
      " ['walk']\n",
      " ['eat']\n",
      " ['eat']\n",
      " ['drink']]\n"
     ]
    }
   ],
   "source": [
    "print(l)"
   ]
  },
  {
   "cell_type": "code",
   "execution_count": 34,
   "metadata": {},
   "outputs": [
    {
     "name": "stdout",
     "output_type": "stream",
     "text": [
      "['matur', 'intellig', 'high', 'charg', 'melodrama', 'unbelivebl', 'film', 'china', '.', 'wei', 'wei', 'stun', 'perform', 'catylast', 'love', 'triangl', 'simpli', 'stun', 'oppurun', 'see', 'magnific', 'film', 'take']\n"
     ]
    }
   ],
   "source": [
    "print(myTokenizer(df['review'][0]))"
   ]
  },
  {
   "cell_type": "code",
   "execution_count": 35,
   "metadata": {},
   "outputs": [
    {
     "data": {
      "text/plain": [
       "23"
      ]
     },
     "execution_count": 35,
     "metadata": {},
     "output_type": "execute_result"
    }
   ],
   "source": [
    "len(myTokenizer(df['review'][0]))"
   ]
  },
  {
   "cell_type": "code",
   "execution_count": 36,
   "metadata": {},
   "outputs": [
    {
     "data": {
      "text/plain": [
       "38"
      ]
     },
     "execution_count": 36,
     "metadata": {},
     "output_type": "execute_result"
    }
   ],
   "source": [
    "len(df['review'][0].split())"
   ]
  },
  {
   "cell_type": "code",
   "execution_count": 37,
   "metadata": {},
   "outputs": [],
   "source": [
    "cv = CountVectorizer(tokenizer=myTokenizer)"
   ]
  },
  {
   "cell_type": "code",
   "execution_count": 38,
   "metadata": {},
   "outputs": [],
   "source": [
    "vectorized_X_train = cv.fit_transform(X_train).toarray()"
   ]
  },
  {
   "cell_type": "code",
   "execution_count": 39,
   "metadata": {},
   "outputs": [
    {
     "data": {
      "text/plain": [
       "(40000, 105868)"
      ]
     },
     "execution_count": 39,
     "metadata": {},
     "output_type": "execute_result"
    }
   ],
   "source": [
    "vectorized_X_train.shape"
   ]
  },
  {
   "cell_type": "code",
   "execution_count": 40,
   "metadata": {},
   "outputs": [
    {
     "data": {
      "text/plain": [
       "105868"
      ]
     },
     "execution_count": 40,
     "metadata": {},
     "output_type": "execute_result"
    }
   ],
   "source": [
    "len(cv.vocabulary_)"
   ]
  },
  {
   "cell_type": "code",
   "execution_count": 41,
   "metadata": {},
   "outputs": [
    {
     "data": {
      "text/plain": [
       "{'matur': 57809,\n",
       " 'intellig': 46739,\n",
       " 'high': 42632,\n",
       " 'charg': 16254,\n",
       " 'melodrama': 58827,\n",
       " 'unbelivebl': 97269,\n",
       " 'film': 33340,\n",
       " 'china': 16918,\n",
       " '.': 0,\n",
       " 'wei': 102032,\n",
       " 'stun': 89444,\n",
       " 'perform': 69717,\n",
       " 'catylast': 15469,\n",
       " 'love': 55128,\n",
       " 'triangl': 95776,\n",
       " 'simpli': 84664,\n",
       " 'oppurun': 66772,\n",
       " 'see': 82118,\n",
       " 'magnific': 56186,\n",
       " 'take': 91425,\n",
       " 'http': 44198,\n",
       " 'video.google.com': 100148,\n",
       " 'videoplay': 100171,\n",
       " 'docid': 26177,\n",
       " 'hl': 43077,\n",
       " 'en': 29440,\n",
       " 'distribut': 25951,\n",
       " 'tried.': 95837,\n",
       " 'br': 12020,\n",
       " 'opt': 66776,\n",
       " 'mass': 57515,\n",
       " 'appeal.': 4947,\n",
       " 'want': 101306,\n",
       " 'best': 9609,\n",
       " 'possibl': 72230,\n",
       " 'view': 100220,\n",
       " 'rang': 75296,\n",
       " 'forgo': 34924,\n",
       " 'profit': 73319,\n",
       " 'continu': 19972,\n",
       " 'manual': 56940,\n",
       " 'labor': 51907,\n",
       " 'job': 48833,\n",
       " 'glad': 37883,\n",
       " 'entertain': 29903,\n",
       " 'work': 103816,\n",
       " 'yours.': 105146,\n",
       " 'texa': 92715,\n",
       " 'tale': 91475,\n",
       " 'pleas': 71264,\n",
       " 'write': 104168,\n",
       " 'it...': 47610,\n",
       " 'like': 53885,\n",
       " 'not': 64960,\n",
       " 'alex': 2972,\n",
       " 'stuie': 89432,\n",
       " 'tale...': 91477,\n",
       " 'it.': 47608,\n",
       " 'opinion': 66713,\n",
       " 'rules.': 79433,\n",
       " 'titl': 94293,\n",
       " 'opera': 66682,\n",
       " 'director': 25354,\n",
       " 'dario': 22774,\n",
       " 'argento': 5348,\n",
       " 'cast': 15228,\n",
       " 'cristina': 21494,\n",
       " 'masillach': 57488,\n",
       " 'ian': 44849,\n",
       " 'charleson': 16293,\n",
       " 'urbano': 98970,\n",
       " 'barberini': 7975,\n",
       " 'daria': 22766,\n",
       " 'nicolodi': 64219,\n",
       " 'review': 77644,\n",
       " 'movi': 61771,\n",
       " 'seen': 82203,\n",
       " 'suspiria': 90622,\n",
       " 'one': 66434,\n",
       " 'blew': 10639,\n",
       " 'away': 6882,\n",
       " 'style': 89530,\n",
       " 'color': 18703,\n",
       " 'spooki': 87512,\n",
       " 'stori': 88866,\n",
       " 'line.': 54075,\n",
       " 'next': 64080,\n",
       " 'decid': 23389,\n",
       " 'go': 38139,\n",
       " 'told': 94552,\n",
       " 'best.': 9610,\n",
       " 'man': 56638,\n",
       " 'think': 93302,\n",
       " 'discov': 25566,\n",
       " 'ultim': 97038,\n",
       " 'favorit': 32617,\n",
       " 'horror': 43839,\n",
       " 'directors.': 25372,\n",
       " 'young': 105116,\n",
       " 'singer': 84749,\n",
       " 'get': 37369,\n",
       " 'big': 9938,\n",
       " 'break': 12271,\n",
       " 'main': 56298,\n",
       " 'star': 88038,\n",
       " 'creepi': 21307,\n",
       " 'modern': 60682,\n",
       " 'mc': 57982,\n",
       " 'beth': 9653,\n",
       " 'hit': 43006,\n",
       " 'car.': 14707,\n",
       " 'betti': 9721,\n",
       " 'understudi': 97642,\n",
       " 'part': 68707,\n",
       " 'herself.': 42418,\n",
       " 'bad': 7346,\n",
       " 'psycho': 73813,\n",
       " 'make': 56375,\n",
       " 'watch': 101588,\n",
       " 'brutal': 12940,\n",
       " 'murder': 62527,\n",
       " 'friend': 35603,\n",
       " 'co': 18266,\n",
       " 'workers.': 103851,\n",
       " 'wow': 104063,\n",
       " 'id': 44938,\n",
       " 'heard': 41711,\n",
       " 'good': 38469,\n",
       " 'thing': 93245,\n",
       " 'flick': 34214,\n",
       " 'wasn': 101545,\n",
       " 'prepar': 72759,\n",
       " 'level': 53537,\n",
       " 'great': 39194,\n",
       " 'would': 104037,\n",
       " 'me.': 58376,\n",
       " 'yeah': 104738,\n",
       " 'shortcom': 83936,\n",
       " 'ill': 45177,\n",
       " 'later.': 52564,\n",
       " 'away.': 6883,\n",
       " 'first': 33839,\n",
       " 'fill': 33322,\n",
       " 'lot': 55018,\n",
       " 'suspiria.': 90623,\n",
       " 'expect': 31336,\n",
       " 'bit': 10254,\n",
       " 'depart': 24131,\n",
       " 'no': 64544,\n",
       " 'surpris': 90488,\n",
       " 'look': 54837,\n",
       " 'feel.': 32780,\n",
       " 'somehow': 86377,\n",
       " 'devoid': 24672,\n",
       " 'color.': 18704,\n",
       " 'certain': 15819,\n",
       " 'scene': 81064,\n",
       " 'master': 57563,\n",
       " 'kitchen': 50888,\n",
       " 'live': 54375,\n",
       " 'room': 78898,\n",
       " 'sequenc': 82641,\n",
       " 'screen': 81661,\n",
       " 'lush': 55557,\n",
       " 'green': 39262,\n",
       " 'blue': 10886,\n",
       " 'grayish': 39168,\n",
       " 'black': 10361,\n",
       " 'tone': 94682,\n",
       " 'distinct': 25921,\n",
       " 'look.': 54838,\n",
       " 'real': 75733,\n",
       " 'show': 84023,\n",
       " 'incred': 45887,\n",
       " 'well': 102123,\n",
       " 'orchestr': 66848,\n",
       " 'death': 23203,\n",
       " 'sequences.': 82648,\n",
       " 'wow.': 104064,\n",
       " 'everi': 30868,\n",
       " 'art.': 5672,\n",
       " 'beauti': 8699,\n",
       " 'destruction.': 24486,\n",
       " 'typic': 96784,\n",
       " 'hack': 40343,\n",
       " 'slash': 85264,\n",
       " 'care': 14788,\n",
       " 'construct': 19852,\n",
       " 'shock': 83799,\n",
       " 'situations.': 84930,\n",
       " 'second': 82017,\n",
       " 'plenti': 71326,\n",
       " 'blood': 10756,\n",
       " 'mayhem': 57924,\n",
       " 'style.': 89531,\n",
       " 'gonna': 38451,\n",
       " 'spoil': 87437,\n",
       " 'em': 29204,\n",
       " 'though.': 93539,\n",
       " 'direction.': 25339,\n",
       " 'realli': 75797,\n",
       " 'origin': 66957,\n",
       " 'shot': 83970,\n",
       " 'one.': 66435,\n",
       " 'invent': 47141,\n",
       " 'use': 99071,\n",
       " 'camera': 14292,\n",
       " 'thought': 93570,\n",
       " 'tarantino': 91750,\n",
       " 'kill': 50591,\n",
       " 'bill': 10033,\n",
       " 'vol.': 100740,\n",
       " 'bullet': 13274,\n",
       " 'come': 18804,\n",
       " 'chamber': 15986,\n",
       " 'gun': 39993,\n",
       " 'lift': 53825,\n",
       " 'honest': 43538,\n",
       " 'believ': 9144,\n",
       " 'heavili': 41818,\n",
       " 'influenc': 46246,\n",
       " 'specif': 87101,\n",
       " 'heck': 41835,\n",
       " 'featur': 32717,\n",
       " 'mention': 59023,\n",
       " 'whole': 102761,\n",
       " 'beatrix': 8676,\n",
       " 'hospit': 43926,\n",
       " 'ell': 29079,\n",
       " 'driver': 27344,\n",
       " 'italian': 47791,\n",
       " 'giallo': 37508,\n",
       " 'proof': 73471,\n",
       " 'that.': 92819,\n",
       " 'anyhow': 4696,\n",
       " 'refer': 76325,\n",
       " 'asid': 5928,\n",
       " 'amaz': 3582,\n",
       " 'crow': 21661,\n",
       " 'fli': 34211,\n",
       " 'crowd': 21665,\n",
       " 'house...great': 44043,\n",
       " 'stuff.': 89413,\n",
       " 'reason': 75852,\n",
       " 'becom': 8782,\n",
       " 'favorites.': 32620,\n",
       " 'act': 1506,\n",
       " 'alright': 3388,\n",
       " 'far': 32291,\n",
       " 'marsillach': 57347,\n",
       " 'tortur': 94955,\n",
       " 'betty.': 9726,\n",
       " 'eye': 31672,\n",
       " 'commit': 19008,\n",
       " 'great.': 39195,\n",
       " 'rest': 77391,\n",
       " 'littl': 54350,\n",
       " 'wooden': 103675,\n",
       " 'stiff': 88574,\n",
       " 'noth': 65017,\n",
       " 'deter': 24527,\n",
       " 'enjoy': 29743,\n",
       " 'film.': 33341,\n",
       " 'didn': 24963,\n",
       " 'movie.': 61773,\n",
       " 'logic': 54647,\n",
       " 'thrown': 93734,\n",
       " 'window': 103142,\n",
       " 'scenes.': 81093,\n",
       " 'special': 87077,\n",
       " 'involv': 47208,\n",
       " 'reaction': 75688,\n",
       " 'shes': 83578,\n",
       " 'murders.': 62548,\n",
       " 'seem': 82186,\n",
       " 'longest': 54790,\n",
       " 'time': 94002,\n",
       " 'went': 102261,\n",
       " 'busi': 13602,\n",
       " 'tell': 92287,\n",
       " 'anyon': 4709,\n",
       " 'thing.': 93246,\n",
       " 'even': 30795,\n",
       " 'police.': 71727,\n",
       " 'mean': 58447,\n",
       " 'someon': 86389,\n",
       " 'front': 35745,\n",
       " 'eyes...you': 31713,\n",
       " 'walk': 101168,\n",
       " 'life.': 53747,\n",
       " 'connect': 19666,\n",
       " 'might': 59632,\n",
       " 'suspect': 90582,\n",
       " 'herself...but': 42421,\n",
       " 'no.': 64545,\n",
       " 'also': 3400,\n",
       " 'end': 29499,\n",
       " 'anti': 4546,\n",
       " 'climactic.': 17988,\n",
       " 'understand': 97615,\n",
       " 'unnecessari': 98279,\n",
       " 'way': 101768,\n",
       " 'felt': 32900,\n",
       " 'could': 20658,\n",
       " 'earlier.': 28162,\n",
       " 'redundant.': 76265,\n",
       " 'that': 92818,\n",
       " 'problem': 73178,\n",
       " 'sinc': 84706,\n",
       " 'still': 88605,\n",
       " 'got': 38751,\n",
       " 'territori': 92599,\n",
       " 'cover...but': 20880,\n",
       " 'devour': 24685,\n",
       " 'step': 88426,\n",
       " 'eat': 28270,\n",
       " 'plate': 71138,\n",
       " 'expens': 31370,\n",
       " 'caviar.': 15550,\n",
       " 'guy': 40146,\n",
       " 'good.': 38470,\n",
       " 'art': 5671,\n",
       " 'two': 96698,\n",
       " 'cant': 14528,\n",
       " 'wait': 101095,\n",
       " 'films.': 33537,\n",
       " 'rate': 75463,\n",
       " 'peopl': 69570,\n",
       " 'wrote': 104240,\n",
       " 'anoth': 4444,\n",
       " 'tom': 94596,\n",
       " 'cruis': 21729,\n",
       " 'weird': 102069,\n",
       " 'magnolia': 56203,\n",
       " 'wide': 102861,\n",
       " 'shut': 84241,\n",
       " 'vanilla': 99481,\n",
       " 'sky': 85185,\n",
       " 'definit': 23624,\n",
       " 'mani': 56784,\n",
       " 'said': 79990,\n",
       " 't.': 91194,\n",
       " 'differ': 25027,\n",
       " 'confus': 19594,\n",
       " 'weird.': 102070,\n",
       " 'stanley': 88015,\n",
       " 'kubrick': 51668,\n",
       " 'pauli': 69086,\n",
       " 'shore.': 83919,\n",
       " 'truman': 96155,\n",
       " 'show.': 84024,\n",
       " 'matrix': 57754,\n",
       " 'game.': 36480,\n",
       " 'unlik': 98192,\n",
       " 'conclusion.': 19411,\n",
       " 'everyth': 30904,\n",
       " 'sens': 82467,\n",
       " 'mayb': 57901,\n",
       " 'immedi': 45370,\n",
       " 'today': 94436,\n",
       " 'sense.': 82484,\n",
       " 'david': 22968,\n",
       " 'aam': 886,\n",
       " 'confused.': 19596,\n",
       " 'point.': 71601,\n",
       " 'call': 14176,\n",
       " 'turn': 96466,\n",
       " 'critic': 21506,\n",
       " 'came': 14278,\n",
       " 'in.': 45653,\n",
       " 'bother': 11775,\n",
       " 'open': 66667,\n",
       " 'spanish': 86979,\n",
       " 'enough': 29810,\n",
       " 'music.': 62640,\n",
       " 'cameron': 14309,\n",
       " 'offer': 65972,\n",
       " 'wonder': 103599,\n",
       " 'soundtrack': 86797,\n",
       " 'set': 82841,\n",
       " 'feel': 32779,\n",
       " 'notori': 65069,\n",
       " 'element': 28977,\n",
       " 'lack.': 51955,\n",
       " 'song': 86501,\n",
       " 'beach': 8566,\n",
       " 'boy': 11956,\n",
       " 'vibrat': 100064,\n",
       " 'play': 71176,\n",
       " 'dramat': 27102,\n",
       " 'emot': 29351,\n",
       " 'climax': 17994,\n",
       " 'creat': 21219,\n",
       " 'offbeat': 65944,\n",
       " 'yet': 104910,\n",
       " 'astound': 6147,\n",
       " 'right': 78043,\n",
       " 'script': 81742,\n",
       " 'music': 62639,\n",
       " 'imag': 45259,\n",
       " 'sad': 79869,\n",
       " 'superfici': 90221,\n",
       " 'bandwagon': 7830,\n",
       " 'chide': 16797,\n",
       " 'order': 66866,\n",
       " 'appear': 4955,\n",
       " 'intelligent.': 46745,\n",
       " 'excel': 31078,\n",
       " 'dog': 26303,\n",
       " 'cat': 15308,\n",
       " 'back': 7231,\n",
       " 'home.old': 43429,\n",
       " 'wise': 103292,\n",
       " 'golden': 38348,\n",
       " 'retriev': 77539,\n",
       " 'shadow': 83077,\n",
       " 'american': 3704,\n",
       " 'bulldog': 13269,\n",
       " 'chanc': 16018,\n",
       " 'himalayan': 42823,\n",
       " 'sassi': 80585,\n",
       " 'flee': 34160,\n",
       " 'ranch': 75261,\n",
       " 'wilder': 102969,\n",
       " 'reunit': 77577,\n",
       " 'family.homeward': 32142,\n",
       " 'bound': 11849,\n",
       " 'journey': 49127,\n",
       " 'famili': 32120,\n",
       " 'adventur': 1991,\n",
       " 'direct': 25325,\n",
       " 'duwayn': 27953,\n",
       " 'dunham.it': 27785,\n",
       " 'remak': 76791,\n",
       " 'film.thi': 33461,\n",
       " 'sequel': 82622,\n",
       " 'three': 93624,\n",
       " 'year': 104752,\n",
       " 'later.michael': 52571,\n",
       " 'j.': 47936,\n",
       " 'fox': 35141,\n",
       " 'perfect': 69684,\n",
       " 'voic': 100716,\n",
       " 'chance.fox': 16026,\n",
       " 'youth': 105170,\n",
       " 'energi': 29649,\n",
       " 'bring': 12586,\n",
       " 'role.s': 78717,\n",
       " 'field': 33210,\n",
       " 'sassy.don': 80590,\n",
       " 'amech': 3662,\n",
       " 'fantast': 32253,\n",
       " 'shadow.thi': 83080,\n",
       " 'veteran': 100005,\n",
       " 'actor': 1601,\n",
       " 'last': 52525,\n",
       " 'movie.also': 61901,\n",
       " 'visibl': 100563,\n",
       " 'great.kim': 39223,\n",
       " 'greist': 39338,\n",
       " 'laura': 52741,\n",
       " 'burnford': 13508,\n",
       " 'seaver.robert': 81980,\n",
       " 'hay': 41524,\n",
       " 'bob': 11013,\n",
       " 'seaver.benji': 81978,\n",
       " 'thall': 92777,\n",
       " 'peter': 70053,\n",
       " 'burnford.veronica': 13511,\n",
       " 'lauren': 52751,\n",
       " 'hope': 43699,\n",
       " 'burnford.kevin': 13510,\n",
       " 'chevalia': 16707,\n",
       " 'jami': 48187,\n",
       " 'seaver.jean': 81979,\n",
       " 'smart': 85642,\n",
       " 'portray': 72142,\n",
       " 'kate.it': 49946,\n",
       " 'quit': 74710,\n",
       " 'pet': 70037,\n",
       " 'tri': 95765,\n",
       " 'surviv': 90541,\n",
       " 'wilderness.w': 102975,\n",
       " 'taken': 91437,\n",
       " 'river': 78296,\n",
       " 'goner.th': 38446,\n",
       " 'bear': 8615,\n",
       " 'exit': 31295,\n",
       " 'funny.ch': 36060,\n",
       " 'hungri': 44490,\n",
       " 'bear.and': 8619,\n",
       " 'meet': 58671,\n",
       " 'porcupin': 72044,\n",
       " 'painful.thi': 68093,\n",
       " 'fun': 35952,\n",
       " 'family.': 32132,\n",
       " 'steve': 88525,\n",
       " 'carel': 14814,\n",
       " 'role': 78693,\n",
       " 'old': 66207,\n",
       " 'virgin': 100490,\n",
       " 'support': 90361,\n",
       " 'bewitch': 9776,\n",
       " 'bruce': 12879,\n",
       " 'almighti': 3300,\n",
       " 'anchorman': 4000,\n",
       " 'daili': 22461,\n",
       " 'gotten': 38785,\n",
       " 'small': 85618,\n",
       " 'tast': 91840,\n",
       " 'comedi': 18819,\n",
       " 'truli': 96152,\n",
       " 'own.': 67804,\n",
       " 'ferrel': 33018,\n",
       " 'comed': 18818,\n",
       " 'air': 2635,\n",
       " 'innoc': 46432,\n",
       " 'lovabl': 55126,\n",
       " 'hilarious.': 42715,\n",
       " 'hesit': 42453,\n",
       " 'say': 80810,\n",
       " 'comedian': 18820,\n",
       " 'time.': 94003,\n",
       " 'hour': 44021,\n",
       " 'non': 64694,\n",
       " 'stop': 88827,\n",
       " 'laugh': 52644,\n",
       " 'twice': 96637,\n",
       " 'lead': 52904,\n",
       " 'charm': 16311,\n",
       " 'audienc': 6478,\n",
       " 'entir': 29967,\n",
       " 'line': 54074,\n",
       " 'rememb': 76831,\n",
       " 'all.': 3110,\n",
       " 'fit': 33914,\n",
       " 'knew': 51067,\n",
       " 'doing.': 26360,\n",
       " 'sex': 82956,\n",
       " 'joke': 48964,\n",
       " 'nuditi': 65261,\n",
       " 'languag': 52334,\n",
       " 'everyon': 30896,\n",
       " 'wed': 101960,\n",
       " 'crasher': 21144,\n",
       " 'along': 3337,\n",
       " 'absolut': 1165,\n",
       " 'virgin.': 100491,\n",
       " 'required.': 77212,\n",
       " 'howev': 44125,\n",
       " 'summari': 90041,\n",
       " 'put': 74246,\n",
       " 'top': 94818,\n",
       " 'wordi': 103789,\n",
       " 'was.': 101481,\n",
       " 'pretti': 72926,\n",
       " 'much': 62230,\n",
       " 'know': 51137,\n",
       " 'beginning.': 8978,\n",
       " 'spite': 87368,\n",
       " 'attempt': 6369,\n",
       " 'plot': 71375,\n",
       " 'twist': 96668,\n",
       " 'talent': 91483,\n",
       " 'hard': 41052,\n",
       " 'dismay': 25733,\n",
       " 'happen': 40955,\n",
       " 'never': 63952,\n",
       " 'need': 63631,\n",
       " 'whodunit': 102754,\n",
       " 'mysteri': 62848,\n",
       " 'comment': 18951,\n",
       " 'rule': 79425,\n",
       " 'lowest': 55230,\n",
       " 'ever': 30832,\n",
       " 'movie...': 61775,\n",
       " 'think.': 93303,\n",
       " 'save': 80742,\n",
       " 'vote': 100844,\n",
       " 'for.': 34740,\n",
       " 'deserv': 24354,\n",
       " 'johanna': 48911,\n",
       " 'watt': 101738,\n",
       " 'watson': 101734,\n",
       " 'job.': 48834,\n",
       " 'cri': 21379,\n",
       " 'distraught': 25945,\n",
       " 'convey': 20106,\n",
       " 'well.': 102124,\n",
       " 'charact': 16155,\n",
       " 'drummer': 27445,\n",
       " 'short': 83924,\n",
       " 'part.': 68708,\n",
       " 'ok': 66123,\n",
       " 'forget': 34893,\n",
       " 'name': 63081,\n",
       " 'terribl': 92560,\n",
       " 'bad.': 7347,\n",
       " 'must': 62705,\n",
       " 'display': 25807,\n",
       " 'restless': 77414,\n",
       " 'day': 23014,\n",
       " 'pictur': 70552,\n",
       " 'white': 102679,\n",
       " 'lab': 51886,\n",
       " 'coat': 18304,\n",
       " 'doctor': 26194,\n",
       " 'multipl': 62400,\n",
       " 'person': 69910,\n",
       " 'general': 37075,\n",
       " 'doesn': 26295,\n",
       " 'help': 42079,\n",
       " 'daytim': 23066,\n",
       " 'soap.': 86082,\n",
       " 'although': 3452,\n",
       " 'sure': 90419,\n",
       " 'shoot': 83871,\n",
       " 'camcord': 14272,\n",
       " 'though': 93538,\n",
       " 'without': 103408,\n",
       " 'obvious': 65681,\n",
       " 'soap': 86081,\n",
       " 'ish': 47502,\n",
       " 'sound': 86773,\n",
       " 'editing.': 28470,\n",
       " 'money': 60918,\n",
       " 'rent': 76975,\n",
       " 'wasted.': 101565,\n",
       " 'wouldn': 104043,\n",
       " 'unless': 98185,\n",
       " 'paid': 68079,\n",
       " 'larg': 52420,\n",
       " 'sum': 90026,\n",
       " 'money.': 60919,\n",
       " 'riski': 78236,\n",
       " 'move': 61746,\n",
       " 'lose.wel': 54994,\n",
       " 'wrong.': 104203,\n",
       " 'bloodsurf': 10812,\n",
       " 'worst': 104000,\n",
       " 'horrormovi': 43857,\n",
       " 'seen.': 82204,\n",
       " 'crappi': 21118,\n",
       " 'technic': 92093,\n",
       " 'output': 67414,\n",
       " 'on.': 66349,\n",
       " 'give': 37856,\n",
       " 'cours': 20805,\n",
       " 'posit': 72192,\n",
       " 'surprise.': 90489,\n",
       " 'superior': 90256,\n",
       " 'movie.....': 61777,\n",
       " 'buy': 13775,\n",
       " 'stay': 88268,\n",
       " 'horribl': 43809,\n",
       " 'vanish': 99486,\n",
       " 'obscur': 65626,\n",
       " 'exist': 31265,\n",
       " 'cult': 21950,\n",
       " 'classic': 17763,\n",
       " 'recognition.': 76041,\n",
       " 'cannib': 14500,\n",
       " 'pair': 68119,\n",
       " 'cinemat': 17471,\n",
       " 'delicatessen': 23793,\n",
       " 'histor': 42975,\n",
       " 'case': 15146,\n",
       " 'uruguayan': 99035,\n",
       " 'rugbi': 79392,\n",
       " 'player': 71203,\n",
       " 'andes': 4083,\n",
       " 'dead': 23114,\n",
       " 'member': 58862,\n",
       " 'flight': 34251,\n",
       " 'chile.': 16872,\n",
       " 'excus': 31183,\n",
       " 'delv': 23886,\n",
       " 'extrem': 31632,\n",
       " 'men': 58915,\n",
       " 'will': 103020,\n",
       " 'defeat': 23551,\n",
       " 'isol': 47557,\n",
       " 'obtain': 65668,\n",
       " 'social': 86131,\n",
       " 'acceptance.': 1282,\n",
       " 'creativ': 21232,\n",
       " 'leav': 53018,\n",
       " 'viewer': 100235,\n",
       " 'wondering...': 103632,\n",
       " 'kung': 51727,\n",
       " 'fu': 35834,\n",
       " 'miss': 60365,\n",
       " 'point': 71600,\n",
       " 'base': 8200,\n",
       " 'subtl': 89732,\n",
       " 'face': 31806,\n",
       " 'contrast': 20031,\n",
       " 'new': 63978,\n",
       " 'china.': 16919,\n",
       " 'kara': 49797,\n",
       " 'hui': 44301,\n",
       " 'instanc': 46604,\n",
       " 'countri': 20751,\n",
       " 'bumpkin': 13347,\n",
       " 'troubl': 96062,\n",
       " 'whenev': 102543,\n",
       " 'adapt': 1717,\n",
       " 'honour': 43597,\n",
       " 'dress': 27262,\n",
       " 'fashion': 32449,\n",
       " 'heroin': 42380,\n",
       " 'militari': 59761,\n",
       " 'hsiao': 44190,\n",
       " 'ho.': 43126,\n",
       " 'gordon': 38642,\n",
       " 'liu': 54369,\n",
       " 'serious': 82742,\n",
       " 'monk': 60987,\n",
       " 'persona': 69920,\n",
       " 'silli': 84545,\n",
       " 'wig': 102924,\n",
       " 'guitar.': 39932,\n",
       " 'fight': 33256,\n",
       " 'johnni': 48938,\n",
       " 'wang': 101287,\n",
       " 'rather': 75480,\n",
       " 'death.': 23204,\n",
       " 'kwan': 51810,\n",
       " 'yung': 105263,\n",
       " 'moon': 61197,\n",
       " 'thug': 93753,\n",
       " 'invinc': 47183,\n",
       " 'armour': 5516,\n",
       " 'terrific.': 92584,\n",
       " 'fighting.': 33272,\n",
       " 'martin': 57375,\n",
       " 'lift.': 53826,\n",
       " 'someth': 86407,\n",
       " 'strang': 89044,\n",
       " 'face.': 31807,\n",
       " 'usual': 99115,\n",
       " 'anyth': 4720,\n",
       " 'trashi': 95534,\n",
       " 'funny.': 36040,\n",
       " 'charlen': 16290,\n",
       " 'encourag': 29487,\n",
       " 'rough': 79144,\n",
       " 'wife': 102911,\n",
       " 'messag': 59241,\n",
       " 'send': 82437,\n",
       " 'teen': 92154,\n",
       " 'robert': 78444,\n",
       " 'jordan': 49062,\n",
       " 'televis': 92267,\n",
       " 'star.': 88039,\n",
       " 'proper': 73495,\n",
       " 'executed.': 31201,\n",
       " 'world': 103895,\n",
       " 'children': 16852,\n",
       " 'heard.': 41712,\n",
       " 'mr.': 62099,\n",
       " 'rambuncti': 75191,\n",
       " 'band': 7794,\n",
       " 'scout': 81597,\n",
       " 'ratings.': 75497,\n",
       " 'staff': 87849,\n",
       " 'figur': 33286,\n",
       " 'learn': 52969,\n",
       " 'interact': 46793,\n",
       " 'inclin': 45797,\n",
       " 'cope': 20234,\n",
       " 'compris': 19277,\n",
       " 'fun.': 35953,\n",
       " 'belveder': 9275,\n",
       " 'goe': 38263,\n",
       " 'colleg': 18624,\n",
       " 'please.': 71276,\n",
       " 'interest': 46831,\n",
       " 'copi': 20242,\n",
       " 'iamas': 44845,\n",
       " '@yahoo.com': 786,\n",
       " 'probabl': 73154,\n",
       " 'long': 54766,\n",
       " 'keep': 50126,\n",
       " 'nonstop': 64768,\n",
       " 'hilari': 42714,\n",
       " 'cameo': 14287,\n",
       " 'ben': 9286,\n",
       " 'stiller': 88621,\n",
       " 'guitar': 39931,\n",
       " 'store': 88851,\n",
       " 'guy.': 40147,\n",
       " 'caus': 15493,\n",
       " 'more.': 61308,\n",
       " 'minut': 60088,\n",
       " 'credit': 21274,\n",
       " 'actual': 1668,\n",
       " 'suggest': 89941,\n",
       " 'fan': 32157,\n",
       " 'jack': 48005,\n",
       " 'black.': 10362,\n",
       " 'album': 2898,\n",
       " 'damn': 22580,\n",
       " 'catchi': 15358,\n",
       " 'notch': 64991,\n",
       " 'earlier': 28161,\n",
       " 'target': 91766,\n",
       " 'altman': 3459,\n",
       " 'haven': 41473,\n",
       " 'releas': 76692,\n",
       " 'seldom': 82313,\n",
       " 'spent': 87218,\n",
       " 'theater': 92892,\n",
       " 'miser': 60249,\n",
       " 'disappoint': 25434,\n",
       " 'pretenti': 72917,\n",
       " 'communiti': 19069,\n",
       " 'sci': 81464,\n",
       " 'fi': 33147,\n",
       " 'version': 99943,\n",
       " 'ingmar': 46316,\n",
       " 'bergman': 9454,\n",
       " 'this.': 93373,\n",
       " 'made': 55990,\n",
       " 'nadir': 62955,\n",
       " 'career': 14795,\n",
       " 'remark': 76804,\n",
       " 'lows.': 55249,\n",
       " 'couldn': 20667,\n",
       " 'envi': 30024,\n",
       " 'critics.': 21520,\n",
       " 'depress': 24194,\n",
       " 'caught': 15482,\n",
       " 'peripher': 69798,\n",
       " 'true': 96122,\n",
       " 'speak': 87051,\n",
       " 'minor': 60062,\n",
       " 'truth.': 96194,\n",
       " 'societi': 86143,\n",
       " 'often': 66036,\n",
       " 'moment': 60832,\n",
       " 'intent': 46776,\n",
       " 'rough.': 79145,\n",
       " 'els': 29142,\n",
       " 'state': 88196,\n",
       " 'evid': 30940,\n",
       " 'number': 65313,\n",
       " 'divorces.': 26061,\n",
       " 'marriag': 57304,\n",
       " 'forever.': 34872,\n",
       " 'stereotyp': 88484,\n",
       " 'focus': 34534,\n",
       " 'import': 45536,\n",
       " 'follow': 34613,\n",
       " 'heart': 41727,\n",
       " 'easi': 28223,\n",
       " 'sappi': 80478,\n",
       " 'instead': 46616,\n",
       " 'realiti': 75771,\n",
       " 'committ': 19016,\n",
       " 'sometim': 86435,\n",
       " 'enough.': 29811,\n",
       " 'magic': 56146,\n",
       " 'love.': 55129,\n",
       " 'late.': 52549,\n",
       " 'stress': 89176,\n",
       " 'school': 81333,\n",
       " 'sit': 84889,\n",
       " 'tv': 96555,\n",
       " 'watch.': 101589,\n",
       " 'genuin': 37217,\n",
       " 'shame': 83186,\n",
       " 'anymore.': 4701,\n",
       " 'dick': 24887,\n",
       " 'van': 99436,\n",
       " 'dyke': 28033,\n",
       " 'dr': 26981,\n",
       " 'mark': 57197,\n",
       " 'sloan': 85474,\n",
       " 'detect': 24514,\n",
       " 'son': 86475,\n",
       " 'solv': 86344,\n",
       " 'join': 48952,\n",
       " 'unknown': 98167,\n",
       " 'compet': 19153,\n",
       " 'life': 53746,\n",
       " 'barri': 8137,\n",
       " 'dyke.': 28034,\n",
       " 'victoria': 100126,\n",
       " 'rowel': 79218,\n",
       " 'notic': 65043,\n",
       " 'seri': 82716,\n",
       " 'hairstyl': 40536,\n",
       " 'changes.': 16073,\n",
       " 'scott': 81581,\n",
       " 'baio': 7534,\n",
       " 'charli': 16299,\n",
       " 'schlatter': 81238,\n",
       " 'particular': 68751,\n",
       " 'michael': 59471,\n",
       " 'tucci': 96296,\n",
       " 'norman': 64861,\n",
       " 'puzzl': 74287,\n",
       " 'sudden': 89863,\n",
       " 'disappeared.': 25429,\n",
       " 'guest': 39836,\n",
       " 'colombo': 18683,\n",
       " 'episod': 30110,\n",
       " 'alway': 3500,\n",
       " 'chuckl': 17274,\n",
       " 'about.': 1092,\n",
       " 'conclus': 19410,\n",
       " 'thumb': 93769,\n",
       " 'bethani': 9655,\n",
       " 'cox': 20947,\n",
       " 'sleeper': 85357,\n",
       " 'rod': 78579,\n",
       " 'steiger': 88389,\n",
       " 'credits.': 21281,\n",
       " 'character.': 16157,\n",
       " 'remind': 76855,\n",
       " 'us': 99040,\n",
       " 'power': 72403,\n",
       " 'actor.': 1602,\n",
       " 'grandfath': 38996,\n",
       " 'impuls': 45634,\n",
       " 'stubborn': 89367,\n",
       " 'accept': 1277,\n",
       " 'characterist': 16191,\n",
       " 'individu': 46044,\n",
       " 'convinc': 20121,\n",
       " 'performance.': 69720,\n",
       " 'close': 18086,\n",
       " 'closer': 18099,\n",
       " 'precious': 72575,\n",
       " 'grant': 39044,\n",
       " 'privileg': 73121,\n",
       " 'relationship': 76663,\n",
       " 'empathi': 29370,\n",
       " 'us.': 99041,\n",
       " 'search': 81924,\n",
       " 'togeth': 94488,\n",
       " 'grand': 38973,\n",
       " 'daughter': 22930,\n",
       " 'provid': 73665,\n",
       " 'suspens': 90594,\n",
       " 'separ': 82584,\n",
       " 'elder': 28916,\n",
       " 'lover': 55176,\n",
       " 'cusp': 22132,\n",
       " 'forev': 34871,\n",
       " 'young.': 105117,\n",
       " 'stage': 87858,\n",
       " 'tight': 93934,\n",
       " 'wound': 104049,\n",
       " 'granddaught': 38985,\n",
       " 'reach': 75675,\n",
       " 'quest.': 74569,\n",
       " 'delight': 23799,\n",
       " 'find': 33644,\n",
       " 'brought': 12837,\n",
       " 'expected.': 31349,\n",
       " 'satisfi': 80653,\n",
       " 'greater': 39229,\n",
       " 'appreci': 5055,\n",
       " 'valu': 99384,\n",
       " 'gift': 37577,\n",
       " 'tong': 94690,\n",
       " 'jacki': 48030,\n",
       " 'chan': 16015,\n",
       " 'super': 90176,\n",
       " 'cop': 20225,\n",
       " 'rumbl': 79443,\n",
       " 'bronx': 12767,\n",
       " 'receiv': 75977,\n",
       " 'lack': 51954,\n",
       " 'magoo': 56214,\n",
       " 'madness.': 56060,\n",
       " 'limit': 53996,\n",
       " 'lesli': 53444,\n",
       " 'nielsen': 64236,\n",
       " 'intern': 46913,\n",
       " 'steal': 88304,\n",
       " 'renown': 76972,\n",
       " 'gem.': 37039,\n",
       " 'idea': 44945,\n",
       " 'fact': 31855,\n",
       " 'within': 103403,\n",
       " 'thirti': 93366,\n",
       " 'bore': 11603,\n",
       " 'funni': 36031,\n",
       " 'cook': 20153,\n",
       " 'chicken.': 16785,\n",
       " 'wish': 103312,\n",
       " 'nearsight': 63549,\n",
       " 'magoo.': 56215,\n",
       " 'disast': 25471,\n",
       " 'nielson': 64239,\n",
       " 'movies.': 61989,\n",
       " 'recommend': 76062,\n",
       " ...}"
      ]
     },
     "execution_count": 41,
     "metadata": {},
     "output_type": "execute_result"
    }
   ],
   "source": [
    "cv.vocabulary_"
   ]
  },
  {
   "cell_type": "code",
   "execution_count": 42,
   "metadata": {},
   "outputs": [],
   "source": [
    "test = pd.read_csv('Test/Test.csv')"
   ]
  },
  {
   "cell_type": "code",
   "execution_count": 43,
   "metadata": {},
   "outputs": [
    {
     "data": {
      "text/plain": [
       "(10000, 1)"
      ]
     },
     "execution_count": 43,
     "metadata": {},
     "output_type": "execute_result"
    }
   ],
   "source": [
    "test.shape"
   ]
  },
  {
   "cell_type": "code",
   "execution_count": 44,
   "metadata": {},
   "outputs": [
    {
     "data": {
      "text/html": [
       "<div>\n",
       "<style scoped>\n",
       "    .dataframe tbody tr th:only-of-type {\n",
       "        vertical-align: middle;\n",
       "    }\n",
       "\n",
       "    .dataframe tbody tr th {\n",
       "        vertical-align: top;\n",
       "    }\n",
       "\n",
       "    .dataframe thead th {\n",
       "        text-align: right;\n",
       "    }\n",
       "</style>\n",
       "<table border=\"1\" class=\"dataframe\">\n",
       "  <thead>\n",
       "    <tr style=\"text-align: right;\">\n",
       "      <th></th>\n",
       "      <th>review</th>\n",
       "    </tr>\n",
       "  </thead>\n",
       "  <tbody>\n",
       "    <tr>\n",
       "      <th>0</th>\n",
       "      <td>Remember those old kung fu movies we used to w...</td>\n",
       "    </tr>\n",
       "    <tr>\n",
       "      <th>1</th>\n",
       "      <td>This movie is another one on my List of Movies...</td>\n",
       "    </tr>\n",
       "    <tr>\n",
       "      <th>2</th>\n",
       "      <td>How in the world does a thing like this get in...</td>\n",
       "    </tr>\n",
       "    <tr>\n",
       "      <th>3</th>\n",
       "      <td>\"Queen of the Damned\" is one of the best vampi...</td>\n",
       "    </tr>\n",
       "    <tr>\n",
       "      <th>4</th>\n",
       "      <td>The Caprica episode (S01E01) is well done as a...</td>\n",
       "    </tr>\n",
       "  </tbody>\n",
       "</table>\n",
       "</div>"
      ],
      "text/plain": [
       "                                              review\n",
       "0  Remember those old kung fu movies we used to w...\n",
       "1  This movie is another one on my List of Movies...\n",
       "2  How in the world does a thing like this get in...\n",
       "3  \"Queen of the Damned\" is one of the best vampi...\n",
       "4  The Caprica episode (S01E01) is well done as a..."
      ]
     },
     "execution_count": 44,
     "metadata": {},
     "output_type": "execute_result"
    }
   ],
   "source": [
    "test.head()"
   ]
  },
  {
   "cell_type": "code",
   "execution_count": 45,
   "metadata": {},
   "outputs": [],
   "source": [
    "X_test = test.values"
   ]
  },
  {
   "cell_type": "code",
   "execution_count": 46,
   "metadata": {},
   "outputs": [],
   "source": [
    "X_test = X_test.reshape((-1,))"
   ]
  },
  {
   "cell_type": "code",
   "execution_count": 47,
   "metadata": {},
   "outputs": [
    {
     "data": {
      "text/plain": [
       "(10000,)"
      ]
     },
     "execution_count": 47,
     "metadata": {},
     "output_type": "execute_result"
    }
   ],
   "source": [
    "X_test.shape"
   ]
  },
  {
   "cell_type": "code",
   "execution_count": 48,
   "metadata": {},
   "outputs": [],
   "source": [
    "vectorized_X_test = cv.transform(X_test).toarray()"
   ]
  },
  {
   "cell_type": "code",
   "execution_count": 49,
   "metadata": {},
   "outputs": [
    {
     "data": {
      "text/plain": [
       "(10000, 105868)"
      ]
     },
     "execution_count": 49,
     "metadata": {},
     "output_type": "execute_result"
    }
   ],
   "source": [
    "vectorized_X_test.shape"
   ]
  },
  {
   "cell_type": "code",
   "execution_count": 50,
   "metadata": {},
   "outputs": [],
   "source": [
    "mnb = MultinomialNB()"
   ]
  },
  {
   "cell_type": "code",
   "execution_count": 51,
   "metadata": {},
   "outputs": [
    {
     "data": {
      "text/plain": [
       "MultinomialNB(alpha=1.0, class_prior=None, fit_prior=True)"
      ]
     },
     "execution_count": 51,
     "metadata": {},
     "output_type": "execute_result"
    }
   ],
   "source": [
    "mnb.fit(vectorized_X_train,y_train)"
   ]
  },
  {
   "cell_type": "code",
   "execution_count": 52,
   "metadata": {},
   "outputs": [],
   "source": [
    "y_test = mnb.predict(vectorized_X_test)"
   ]
  },
  {
   "cell_type": "code",
   "execution_count": 53,
   "metadata": {},
   "outputs": [
    {
     "data": {
      "text/plain": [
       "(10000,)"
      ]
     },
     "execution_count": 53,
     "metadata": {},
     "output_type": "execute_result"
    }
   ],
   "source": [
    "y_test.shape"
   ]
  },
  {
   "cell_type": "code",
   "execution_count": 55,
   "metadata": {},
   "outputs": [],
   "source": [
    "def convert(y_test):\n",
    "    y_ = []\n",
    "    for i in y_test:\n",
    "        if i==1:\n",
    "            y_.append('pos')\n",
    "        else:\n",
    "            y_.append('neg')\n",
    "    \n",
    "    return y_"
   ]
  },
  {
   "cell_type": "code",
   "execution_count": 56,
   "metadata": {},
   "outputs": [],
   "source": [
    "y_ = convert(y_test)"
   ]
  },
  {
   "cell_type": "code",
   "execution_count": 57,
   "metadata": {},
   "outputs": [],
   "source": [
    "y_ = np.array(y_)"
   ]
  },
  {
   "cell_type": "code",
   "execution_count": 58,
   "metadata": {},
   "outputs": [
    {
     "data": {
      "text/plain": [
       "(10000,)"
      ]
     },
     "execution_count": 58,
     "metadata": {},
     "output_type": "execute_result"
    }
   ],
   "source": [
    "y_.shape"
   ]
  },
  {
   "cell_type": "code",
   "execution_count": 59,
   "metadata": {},
   "outputs": [
    {
     "name": "stdout",
     "output_type": "stream",
     "text": [
      "['neg' 'neg' 'neg' ... 'pos' 'pos' 'neg']\n"
     ]
    }
   ],
   "source": [
    "print(y_)"
   ]
  },
  {
   "cell_type": "code",
   "execution_count": 63,
   "metadata": {},
   "outputs": [],
   "source": [
    "pred = pd.DataFrame(y_.reshape((-1,1)),columns=['label'])"
   ]
  },
  {
   "cell_type": "code",
   "execution_count": 64,
   "metadata": {},
   "outputs": [
    {
     "data": {
      "text/plain": [
       "(10000, 1)"
      ]
     },
     "execution_count": 64,
     "metadata": {},
     "output_type": "execute_result"
    }
   ],
   "source": [
    "pred.shape"
   ]
  },
  {
   "cell_type": "code",
   "execution_count": 65,
   "metadata": {},
   "outputs": [
    {
     "data": {
      "text/html": [
       "<div>\n",
       "<style scoped>\n",
       "    .dataframe tbody tr th:only-of-type {\n",
       "        vertical-align: middle;\n",
       "    }\n",
       "\n",
       "    .dataframe tbody tr th {\n",
       "        vertical-align: top;\n",
       "    }\n",
       "\n",
       "    .dataframe thead th {\n",
       "        text-align: right;\n",
       "    }\n",
       "</style>\n",
       "<table border=\"1\" class=\"dataframe\">\n",
       "  <thead>\n",
       "    <tr style=\"text-align: right;\">\n",
       "      <th></th>\n",
       "      <th>label</th>\n",
       "    </tr>\n",
       "  </thead>\n",
       "  <tbody>\n",
       "    <tr>\n",
       "      <th>0</th>\n",
       "      <td>neg</td>\n",
       "    </tr>\n",
       "    <tr>\n",
       "      <th>1</th>\n",
       "      <td>neg</td>\n",
       "    </tr>\n",
       "    <tr>\n",
       "      <th>2</th>\n",
       "      <td>neg</td>\n",
       "    </tr>\n",
       "    <tr>\n",
       "      <th>3</th>\n",
       "      <td>pos</td>\n",
       "    </tr>\n",
       "    <tr>\n",
       "      <th>4</th>\n",
       "      <td>pos</td>\n",
       "    </tr>\n",
       "  </tbody>\n",
       "</table>\n",
       "</div>"
      ],
      "text/plain": [
       "  label\n",
       "0   neg\n",
       "1   neg\n",
       "2   neg\n",
       "3   pos\n",
       "4   pos"
      ]
     },
     "execution_count": 65,
     "metadata": {},
     "output_type": "execute_result"
    }
   ],
   "source": [
    "pred.head()"
   ]
  },
  {
   "cell_type": "code",
   "execution_count": 67,
   "metadata": {},
   "outputs": [],
   "source": [
    "pred.index.names = ['Id']"
   ]
  },
  {
   "cell_type": "code",
   "execution_count": 68,
   "metadata": {},
   "outputs": [
    {
     "data": {
      "text/html": [
       "<div>\n",
       "<style scoped>\n",
       "    .dataframe tbody tr th:only-of-type {\n",
       "        vertical-align: middle;\n",
       "    }\n",
       "\n",
       "    .dataframe tbody tr th {\n",
       "        vertical-align: top;\n",
       "    }\n",
       "\n",
       "    .dataframe thead th {\n",
       "        text-align: right;\n",
       "    }\n",
       "</style>\n",
       "<table border=\"1\" class=\"dataframe\">\n",
       "  <thead>\n",
       "    <tr style=\"text-align: right;\">\n",
       "      <th></th>\n",
       "      <th>label</th>\n",
       "    </tr>\n",
       "    <tr>\n",
       "      <th>Id</th>\n",
       "      <th></th>\n",
       "    </tr>\n",
       "  </thead>\n",
       "  <tbody>\n",
       "    <tr>\n",
       "      <th>0</th>\n",
       "      <td>neg</td>\n",
       "    </tr>\n",
       "    <tr>\n",
       "      <th>1</th>\n",
       "      <td>neg</td>\n",
       "    </tr>\n",
       "    <tr>\n",
       "      <th>2</th>\n",
       "      <td>neg</td>\n",
       "    </tr>\n",
       "    <tr>\n",
       "      <th>3</th>\n",
       "      <td>pos</td>\n",
       "    </tr>\n",
       "    <tr>\n",
       "      <th>4</th>\n",
       "      <td>pos</td>\n",
       "    </tr>\n",
       "  </tbody>\n",
       "</table>\n",
       "</div>"
      ],
      "text/plain": [
       "   label\n",
       "Id      \n",
       "0    neg\n",
       "1    neg\n",
       "2    neg\n",
       "3    pos\n",
       "4    pos"
      ]
     },
     "execution_count": 68,
     "metadata": {},
     "output_type": "execute_result"
    }
   ],
   "source": [
    "pred.head()"
   ]
  },
  {
   "cell_type": "code",
   "execution_count": 69,
   "metadata": {},
   "outputs": [],
   "source": [
    "pred.to_csv('y_predictions.csv')"
   ]
  },
  {
   "cell_type": "code",
   "execution_count": 70,
   "metadata": {},
   "outputs": [
    {
     "data": {
      "text/plain": [
       "'Remember those old kung fu movies we used to watch on Friday and Saturday late nights when our babysitters THOUGHT we were in charge? Well, this movie plays exactly like one of those movies. Patsy Kensit\\'s biggest claim to fame was the love interest to Mel Gibson\\'s character in \"Lethal Weapon 2,\" and this performance was one of the reasons why she\\'s never made it big: she\\'s a terrible actress.<br /><br />In \"Lethal Weapon 2,\" I thought she was cute. Cute enough to check out some of the other movies she\\'d been in, including \"Loves Music, Loves to Dance\" another big let down, which I, obviously, was not impressed with, either. But, as attractive as she is to my eyes, my soul screamed at me to turn it off because she played another cheap, predictable role, and done it very badly.<br /><br />In this movie, Kensit stars as a comedienne (and not a good one, either) who\\'s working the clubs of France (couldn\\'t cut it in her own homeland, so she\\'s making THEIR ears bleed), who\\'s down on her luck, but, even worse, the French government wants to throw her out because of an expired visa (or maybe they just caught her act). But she gets married to this Casanova (Freiss), who is just as down on his luck, and the predictability begins...terribly! Is there any way to give this movie a NEGATIVE rating? 1 out of 10 stars is over rating it!'"
      ]
     },
     "execution_count": 70,
     "metadata": {},
     "output_type": "execute_result"
    }
   ],
   "source": [
    "test['review'][0]"
   ]
  },
  {
   "cell_type": "code",
   "execution_count": null,
   "metadata": {},
   "outputs": [],
   "source": []
  },
  {
   "cell_type": "code",
   "execution_count": null,
   "metadata": {},
   "outputs": [],
   "source": []
  },
  {
   "cell_type": "code",
   "execution_count": null,
   "metadata": {},
   "outputs": [],
   "source": []
  },
  {
   "cell_type": "code",
   "execution_count": null,
   "metadata": {},
   "outputs": [],
   "source": []
  }
 ],
 "metadata": {
  "kernelspec": {
   "display_name": "Python 3",
   "language": "python",
   "name": "python3"
  },
  "language_info": {
   "codemirror_mode": {
    "name": "ipython",
    "version": 3
   },
   "file_extension": ".py",
   "mimetype": "text/x-python",
   "name": "python",
   "nbconvert_exporter": "python",
   "pygments_lexer": "ipython3",
   "version": "3.7.6"
  }
 },
 "nbformat": 4,
 "nbformat_minor": 4
}
